{
 "cells": [
  {
   "cell_type": "code",
   "execution_count": null,
   "metadata": {},
   "outputs": [],
   "source": [
    "import torch\n",
    "import torch.nn as nn\n",
    "import torch.optim as optim\n",
    "import numpy as np\n",
    "import gym\n",
    "from torch.distributions.categorical import Categorical\n"
   ]
  },
  {
   "cell_type": "code",
   "execution_count": null,
   "metadata": {},
   "outputs": [],
   "source": [
    "class ActorCritic(nn.Module):\n",
    "    def __init__(self, obs_dim, act_dim, hidden_size=64):\n",
    "        \"\"\"\n",
    "        obs_dim  : размерность вектора наблюдения\n",
    "        act_dim  : размерность (число возможных действий)\n",
    "        hidden_size: размер скрытых слоёв\n",
    "        \"\"\"\n",
    "        super(ActorCritic, self).__init__()\n",
    "        \n",
    "        # Актер (Policy)\n",
    "        self.actor = nn.Sequential(\n",
    "            nn.Linear(obs_dim, hidden_size),\n",
    "            nn.ReLU(),\n",
    "            nn.Linear(hidden_size, hidden_size),\n",
    "            nn.ReLU(),\n",
    "            nn.Linear(hidden_size, act_dim)  # logits на act_dim действий\n",
    "        )\n",
    "        \n",
    "        # Критик (Value function)\n",
    "        self.critic = nn.Sequential(\n",
    "            nn.Linear(obs_dim, hidden_size),\n",
    "            nn.ReLU(),\n",
    "            nn.Linear(hidden_size, hidden_size),\n",
    "            nn.ReLU(),\n",
    "            nn.Linear(hidden_size, 1)        # ценность состояния (скаляр)\n",
    "        )\n",
    "    \n",
    "    def forward(self, obs):\n",
    "        \"\"\"\n",
    "        Он просто есть, потому что мы обязаны привести реализацию этого класса \n",
    "        \"\"\"\n",
    "        raise NotImplementedError\n",
    "    \n",
    "    def get_action_and_value(self, obs):\n",
    "        \"\"\"\n",
    "        Для заданного obs возвращаем:\n",
    "          - action (выбор из act_dim)\n",
    "          - log_prob(action)\n",
    "          - value (V(obs))\n",
    "          - распределение dist\n",
    "        \"\"\"\n",
    "        logits = self.actor(obs)\n",
    "        dist = Categorical(logits=logits)\n",
    "        action = dist.sample()\n",
    "        value = self.critic(obs).squeeze(-1)  # shape: [batch_size]\n",
    "        return action, dist.log_prob(action), dist, value\n"
   ]
  }
 ],
 "metadata": {
  "kernelspec": {
   "display_name": "Python 3",
   "language": "python",
   "name": "python3"
  },
  "language_info": {
   "name": "python",
   "version": "3.12.8"
  }
 },
 "nbformat": 4,
 "nbformat_minor": 2
}
